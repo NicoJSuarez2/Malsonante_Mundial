{
 "cells": [
  {
   "cell_type": "code",
   "execution_count": 3,
   "metadata": {},
   "outputs": [],
   "source": [
    "import pandas as pd\n",
    "\n",
    "# Read the Excel file \n",
    "df = pd.read_excel('Saludo.xlsx', sheet_name=0)\n",
    "# Read the Excel file 1\n",
    "df1 = pd.read_excel('Saludo.xlsx', sheet_name=1)\n",
    "# Read the Excel file 2\n",
    "df2 = pd.read_excel('Saludo.xlsx', sheet_name=2)\n",
    "\n",
    "n = 10  # Número de mensajes a enviar\n",
    "import time\n",
    "import pywhatkit\n",
    "\n",
    "# Asegúrate de que el número de teléfono esté en el formato correcto\n",
    "numero_telefono = \"+573146747578\"\n",
    "\n",
    "for _ in range(n):\n",
    "    random_malsonante = df2['Malsonante'].sample().iloc[0]\n",
    "    random_saludo = df1['Saludo'].sample().iloc[0]\n",
    "    saludo_mar = random_saludo,random_malsonante\n",
    "    saludo_mar = \" \".join(saludo_mar)\n",
    "    pywhatkit.sendwhatmsg_instantly(numero_telefono, saludo_mar)\n",
    "    time.sleep(60)  # Esperar 60 segundos entre envíos para evitar ser bloqueado por spam\n"
   ]
  },
  {
   "cell_type": "code",
   "execution_count": 2,
   "metadata": {},
   "outputs": [
    {
     "name": "stdout",
     "output_type": "stream",
     "text": [
      "Requirement already satisfied: twilio in c:\\users\\nicolassuarez\\appdata\\local\\anaconda3\\lib\\site-packages (9.2.3)\n",
      "Requirement already satisfied: requests>=2.0.0 in c:\\users\\nicolassuarez\\appdata\\local\\anaconda3\\lib\\site-packages (from twilio) (2.32.2)\n",
      "Requirement already satisfied: PyJWT<3.0.0,>=2.0.0 in c:\\users\\nicolassuarez\\appdata\\local\\anaconda3\\lib\\site-packages (from twilio) (2.8.0)\n",
      "Requirement already satisfied: aiohttp>=3.8.4 in c:\\users\\nicolassuarez\\appdata\\local\\anaconda3\\lib\\site-packages (from twilio) (3.9.5)\n",
      "Requirement already satisfied: aiohttp-retry>=2.8.3 in c:\\users\\nicolassuarez\\appdata\\local\\anaconda3\\lib\\site-packages (from twilio) (2.8.3)\n",
      "Requirement already satisfied: aiosignal>=1.1.2 in c:\\users\\nicolassuarez\\appdata\\local\\anaconda3\\lib\\site-packages (from aiohttp>=3.8.4->twilio) (1.2.0)\n",
      "Requirement already satisfied: attrs>=17.3.0 in c:\\users\\nicolassuarez\\appdata\\local\\anaconda3\\lib\\site-packages (from aiohttp>=3.8.4->twilio) (23.1.0)\n",
      "Requirement already satisfied: frozenlist>=1.1.1 in c:\\users\\nicolassuarez\\appdata\\local\\anaconda3\\lib\\site-packages (from aiohttp>=3.8.4->twilio) (1.4.0)\n",
      "Requirement already satisfied: multidict<7.0,>=4.5 in c:\\users\\nicolassuarez\\appdata\\local\\anaconda3\\lib\\site-packages (from aiohttp>=3.8.4->twilio) (6.0.4)\n",
      "Requirement already satisfied: yarl<2.0,>=1.0 in c:\\users\\nicolassuarez\\appdata\\local\\anaconda3\\lib\\site-packages (from aiohttp>=3.8.4->twilio) (1.9.3)\n",
      "Requirement already satisfied: charset-normalizer<4,>=2 in c:\\users\\nicolassuarez\\appdata\\local\\anaconda3\\lib\\site-packages (from requests>=2.0.0->twilio) (2.0.4)\n",
      "Requirement already satisfied: idna<4,>=2.5 in c:\\users\\nicolassuarez\\appdata\\local\\anaconda3\\lib\\site-packages (from requests>=2.0.0->twilio) (3.7)\n",
      "Requirement already satisfied: urllib3<3,>=1.21.1 in c:\\users\\nicolassuarez\\appdata\\local\\anaconda3\\lib\\site-packages (from requests>=2.0.0->twilio) (2.2.2)\n",
      "Requirement already satisfied: certifi>=2017.4.17 in c:\\users\\nicolassuarez\\appdata\\local\\anaconda3\\lib\\site-packages (from requests>=2.0.0->twilio) (2024.7.4)\n",
      "Note: you may need to restart the kernel to use updated packages.\n",
      "SMa35cede7defd5e74819fcf3a41230819\n"
     ]
    }
   ],
   "source": [
    "%pip install twilio\n",
    "\n",
    "import pandas as pd\n",
    "\n",
    "# Read the Excel file \n",
    "df = pd.read_excel('Saludo.xlsx', sheet_name=0)\n",
    "# Read the Excel file 1\n",
    "df1 = pd.read_excel('Saludo.xlsx', sheet_name=1)\n",
    "# Read the Excel file 2\n",
    "df2 = pd.read_excel('Saludo.xlsx', sheet_name=2)\n",
    "\n",
    "from twilio.rest import Client\n",
    "\n",
    "account_sid = 'AC92afad65f88c0054491146e91414304b'\n",
    "auth_token = '24a81f49e951d46ca2005b6bed1df4a0'\n",
    "client = Client(account_sid, auth_token)\n",
    "\n",
    "random_malsonante = df2['Malsonante'].sample().iloc[0]\n",
    "random_saludo = df1['Saludo'].sample().iloc[0]\n",
    "saludo_mar = random_saludo,random_malsonante\n",
    "saludo_mar = \" \".join(saludo_mar)\n",
    "\n",
    "message = client.messages.create(\n",
    "  from_='whatsapp:+14155238886',\n",
    "  body=saludo_mar,\n",
    "  to='whatsapp:+573146747578'\n",
    ")\n",
    "\n",
    "print(message.sid)"
   ]
  },
  {
   "cell_type": "code",
   "execution_count": 44,
   "metadata": {},
   "outputs": [
    {
     "name": "stdout",
     "output_type": "stream",
     "text": [
      "Mi amor, ¿cómo estás? Cara e' verga\n"
     ]
    }
   ],
   "source": [
    "random_malsonante = df2['Malsonante'].sample().iloc[0]\n",
    "random_saludo = df1['Saludo'].sample().iloc[0]\n",
    "saludo_mar = random_saludo,random_malsonante\n",
    "saludo_mar = \" \".join(saludo_mar)\n",
    "print(saludo_mar)"
   ]
  },
  {
   "cell_type": "code",
   "execution_count": 10,
   "metadata": {},
   "outputs": [],
   "source": [
    "n = 1\n",
    "import time\n",
    "import pywhatkit\n",
    "\n",
    "# Asegúrate de que el número de teléfono esté en el formato correcto\n",
    "numero_telefono = \"+573000000000\"\n",
    "\n",
    "for _ in range(n):\n",
    "    random_malsonante = df2['Malsonante'].sample().iloc[0]\n",
    "    random_saludo = df1['Saludo'].sample().iloc[0]\n",
    "    saludo_mar = random_saludo,random_malsonante\n",
    "    saludo_mar = \" \".join(saludo_mar)\n",
    "    pywhatkit.sendwhatmsg_instantly(numero_telefono, saludo_mar)\n",
    "    time.sleep(60)  # Esperar 60 segundos entre envíos para evitar ser bloqueado por spam"
   ]
  }
 ],
 "metadata": {
  "kernelspec": {
   "display_name": "Python 3",
   "language": "python",
   "name": "python3"
  },
  "language_info": {
   "codemirror_mode": {
    "name": "ipython",
    "version": 3
   },
   "file_extension": ".py",
   "mimetype": "text/x-python",
   "name": "python",
   "nbconvert_exporter": "python",
   "pygments_lexer": "ipython3",
   "version": "3.12.4"
  }
 },
 "nbformat": 4,
 "nbformat_minor": 2
}
